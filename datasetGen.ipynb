{
 "cells": [
  {
   "cell_type": "code",
   "execution_count": 5,
   "id": "da3aac1a",
   "metadata": {},
   "outputs": [],
   "source": [
    "import numpy as np\n",
    "import pandas as pd\n",
    "import matplotlib.pyplot as plt\n",
    "from sklearn.preprocessing import StandardScaler\n",
    "import os"
   ]
  },
  {
   "cell_type": "code",
   "execution_count": 2,
   "id": "01bcefef",
   "metadata": {},
   "outputs": [],
   "source": [
    "import os\n",
    "\n",
    "data_dir = './ANN Data'\n",
    "ps = os.listdir(data_dir)\n",
    "paths = [data_dir+'/'+p for p in ps]"
   ]
  },
  {
   "cell_type": "code",
   "execution_count": 7,
   "id": "f9f6c927",
   "metadata": {},
   "outputs": [
    {
     "name": "stdout",
     "output_type": "stream",
     "text": [
      "(838870, 10)\n",
      "the path ./ANN Data/fieldData_UUp_161_170_SV.dat is done!\n",
      "\n",
      "(4194310, 10)\n",
      "the path ./ANN Data/fieldData_UUp_161_170.dat is done!\n",
      "\n",
      "(922757, 10)\n",
      "the path ./ANN Data/fieldData_UUp_150_160_SV.dat is done!\n",
      "\n",
      "(4613741, 13)\n",
      "the path ./ANN Data/fieldData_GUp_150_160.dat is done!\n",
      "\n",
      "(4194310, 13)\n",
      "the path ./ANN Data/fieldData_GUp_161_170.dat is done!\n",
      "\n",
      "(922757, 13)\n",
      "the path ./ANN Data/fieldData_GUp_150_160_SV.dat is done!\n",
      "\n",
      "(4613741, 10)\n",
      "the path ./ANN Data/fieldData_UUp_150_160.dat is done!\n",
      "\n",
      "(838870, 13)\n",
      "the path ./ANN Data/fieldData_GUp_161_170_SV.dat is done!\n",
      "\n"
     ]
    }
   ],
   "source": [
    "dataset_dir = \"./datasets\"\n",
    "if not os.path.exists(dataset_dir):\n",
    "    os.makedirs(dataset_dir)\n",
    "        \n",
    "for path in paths:\n",
    "    if path.split('_')[-1] == 'SV.dat':\n",
    "        SVflag = 'SV'\n",
    "        if path.split('_')[2] == '150':\n",
    "            SFlag = '150_160'\n",
    "            num = 922757\n",
    "        elif path.split('_')[2] == '161':\n",
    "            SFlag = '161_170'\n",
    "            num = 838870\n",
    "    else:\n",
    "        SVflag = ''\n",
    "        if path.split('_')[2] == '150':\n",
    "            SFlag = '150_160'\n",
    "            num = 4613741\n",
    "        elif path.split('_')[2] == '161':\n",
    "            SFlag = '161_170'\n",
    "            num = 4194310\n",
    "\n",
    "    if path.split('_')[1] == 'GUp':\n",
    "        DFlag = 'GUp'\n",
    "        col = 13 \n",
    "    elif path.split('_')[1] == 'UUp':\n",
    "        DFlag = 'UUp'\n",
    "        col = 10\n",
    "\n",
    "    data = np.zeros([num, col])\n",
    "    with open(path, \"r\") as f:\n",
    "        f.readline()\n",
    "        for i in range(num):\n",
    "            l = f.readline().split()\n",
    "            for j in range(col):\n",
    "                data[i,j] = l[j+1] \n",
    "    \n",
    "    ds_scaler = StandardScaler()\n",
    "    ds_scaler.fit(data)\n",
    "    np.savetxt(\"./datasets/dSHR_BBPF_{}_{}_{}_means.txt\".format(DFlag, SFlag, SVflag),ds_scaler.mean_)\n",
    "    np.savetxt(\"./datasets/dSHR_BBPF_{}_{}_{}_scale.txt\".format(DFlag, SFlag, SVflag),ds_scaler.scale_)\n",
    "    data_norm = ds_scaler.transform(data)   \n",
    "\n",
    "    np.savetxt(\"./datasets/dSHR_BBPF_{}_{}_{}.npy\".format(DFlag, SFlag, SVflag), data)\n",
    "    np.savetxt(\"./datasets/dSHR_BBPF_{}_{}_{}_norm.npy\".format(DFlag, SFlag, SVflag), data_norm)\n",
    "\n",
    "    print(data.shape)       \n",
    "    print(f\"the path {path} is done!\\n\")"
   ]
  }
 ],
 "metadata": {
  "kernelspec": {
   "display_name": "Python 3 (ipykernel)",
   "language": "python",
   "name": "python3"
  },
  "language_info": {
   "codemirror_mode": {
    "name": "ipython",
    "version": 3
   },
   "file_extension": ".py",
   "mimetype": "text/x-python",
   "name": "python",
   "nbconvert_exporter": "python",
   "pygments_lexer": "ipython3",
   "version": "3.8.10"
  }
 },
 "nbformat": 4,
 "nbformat_minor": 5
}
