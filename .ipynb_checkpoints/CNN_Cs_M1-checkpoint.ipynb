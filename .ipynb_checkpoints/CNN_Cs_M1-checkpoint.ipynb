{
 "cells": [
  {
   "cell_type": "code",
   "execution_count": null,
   "id": "8e8f3196",
   "metadata": {
    "scrolled": true
   },
   "outputs": [],
   "source": [
    "import numpy as np\n",
    "import tensorflow as tf\n",
    "from tensorflow.keras import backend as K\n",
    "import matplotlib.pyplot as plt\n",
    "import vtk \n",
    "from vtk.util import numpy_support as VN\n",
    "import matplotlib.tri as tri"
   ]
  },
  {
   "cell_type": "code",
   "execution_count": null,
   "id": "1f0abf5c",
   "metadata": {},
   "outputs": [],
   "source": [
    "tf.config.list_physical_devices('GPU')"
   ]
  },
  {
   "cell_type": "code",
   "execution_count": null,
   "id": "34af41fc",
   "metadata": {},
   "outputs": [],
   "source": [
    "path = [\"./CNN Data/M1/150_Z_0.03125\", \n",
    "        \"./CNN Data/M1/151_Z_0.03125\",\n",
    "        \"./CNN Data/M1/152_Z_0.03125\",\n",
    "        \"./CNN Data/M1/153_Z_0.03125\",\n",
    "        \"./CNN Data/M1/154_Z_0.03125\",\n",
    "        \"./CNN Data/M1/155_Z_0.03125\",\n",
    "        \"./CNN Data/M1/156_Z_0.03125\",\n",
    "        \"./CNN Data/M1/157_Z_0.03125\",\n",
    "        \"./CNN Data/M1/158_Z_0.03125\",\n",
    "        \"./CNN Data/M1/159_Z_0.03125\",\n",
    "        \"./CNN Data/M1/160_Z_0.03125\",\n",
    "        \"./CNN Data/M1/150_Z_N0.03125\",\n",
    "        \"./CNN Data/M1/151_Z_N0.03125\",\n",
    "        \"./CNN Data/M1/152_Z_N0.03125\",\n",
    "        \"./CNN Data/M1/153_Z_N0.03125\",\n",
    "        \"./CNN Data/M1/154_Z_N0.03125\",\n",
    "        \"./CNN Data/M1/155_Z_N0.03125\",\n",
    "        \"./CNN Data/M1/156_Z_N0.03125\",\n",
    "        \"./CNN Data/M1/157_Z_N0.03125\",\n",
    "        \"./CNN Data/M1/158_Z_N0.03125\",\n",
    "        \"./CNN Data/M1/159_Z_N0.03125\",\n",
    "        \"./CNN Data/M1/160_Z_N0.03125\",\n",
    "        \"./CNN Data/M1/161_Z_N0.03125\",\n",
    "        \"./CNN Data/M1/162_Z_N0.03125\",\n",
    "        \"./CNN Data/M1/163_Z_N0.03125\",\n",
    "        \"./CNN Data/M1/164_Z_N0.03125\",\n",
    "        \"./CNN Data/M1/165_Z_N0.03125\",\n",
    "        \"./CNN Data/M1/166_Z_N0.03125\",\n",
    "        \"./CNN Data/M1/167_Z_N0.03125\",\n",
    "        \"./CNN Data/M1/168_Z_N0.03125\",\n",
    "        \"./CNN Data/M1/169_Z_N0.03125\",\n",
    "        \"./CNN Data/M1/170_Z_N0.03125\",\n",
    "        \"./CNN Data/M1/150_Z_0.09375\",\n",
    "        \"./CNN Data/M1/151_Z_0.09375\",\n",
    "        \"./CNN Data/M1/152_Z_0.09375\",\n",
    "        \"./CNN Data/M1/153_Z_0.09375\",\n",
    "        \"./CNN Data/M1/154_Z_0.09375\",\n",
    "        \"./CNN Data/M1/155_Z_0.09375\",\n",
    "        \"./CNN Data/M1/156_Z_0.09375\",\n",
    "        \"./CNN Data/M1/157_Z_0.09375\",\n",
    "        \"./CNN Data/M1/158_Z_0.09375\",\n",
    "        \"./CNN Data/M1/159_Z_0.09375\",\n",
    "        \"./CNN Data/M1/160_Z_0.09375\",\n",
    "        \"./CNN Data/M1/161_Z_0.09375\",\n",
    "        \"./CNN Data/M1/162_Z_0.09375\",\n",
    "        \"./CNN Data/M1/163_Z_0.09375\",\n",
    "        \"./CNN Data/M1/164_Z_0.09375\",\n",
    "        \"./CNN Data/M1/165_Z_0.09375\",\n",
    "        \"./CNN Data/M1/166_Z_0.09375\",\n",
    "        \"./CNN Data/M1/167_Z_0.09375\",\n",
    "        \"./CNN Data/M1/168_Z_0.09375\",\n",
    "        \"./CNN Data/M1/169_Z_0.09375\",\n",
    "        \"./CNN Data/M1/170_Z_0.09375\",\n",
    "        \"./CNN Data/M1/150_Z_N0.09375\",\n",
    "        \"./CNN Data/M1/151_Z_N0.09375\",\n",
    "        \"./CNN Data/M1/152_Z_N0.09375\",\n",
    "        \"./CNN Data/M1/153_Z_N0.09375\",\n",
    "        \"./CNN Data/M1/154_Z_N0.09375\",\n",
    "        \"./CNN Data/M1/155_Z_N0.09375\",\n",
    "        \"./CNN Data/M1/156_Z_N0.09375\",\n",
    "        \"./CNN Data/M1/157_Z_N0.09375\",\n",
    "        \"./CNN Data/M1/158_Z_N0.09375\",\n",
    "        \"./CNN Data/M1/159_Z_N0.09375\",\n",
    "        \"./CNN Data/M1/160_Z_N0.09375\",\n",
    "        \"./CNN Data/M1/161_Z_N0.09375\",\n",
    "        \"./CNN Data/M1/162_Z_N0.09375\",\n",
    "        \"./CNN Data/M1/163_Z_N0.09375\",\n",
    "        \"./CNN Data/M1/164_Z_N0.09375\",\n",
    "        \"./CNN Data/M1/165_Z_N0.09375\",\n",
    "        \"./CNN Data/M1/166_Z_N0.09375\",\n",
    "        \"./CNN Data/M1/167_Z_N0.09375\",\n",
    "        \"./CNN Data/M1/168_Z_N0.09375\",\n",
    "        \"./CNN Data/M1/169_Z_N0.09375\",\n",
    "        \"./CNN Data/M1/170_Z_N0.09375\",\n",
    "        \"./CNN Data/M1/150_Z_0.15625\",\n",
    "        \"./CNN Data/M1/151_Z_0.15625\",\n",
    "        \"./CNN Data/M1/152_Z_0.15625\",\n",
    "        \"./CNN Data/M1/153_Z_0.15625\",\n",
    "        \"./CNN Data/M1/154_Z_0.15625\",\n",
    "        \"./CNN Data/M1/155_Z_0.15625\",\n",
    "        \"./CNN Data/M1/156_Z_0.15625\",\n",
    "        \"./CNN Data/M1/157_Z_0.15625\",\n",
    "        \"./CNN Data/M1/158_Z_0.15625\",\n",
    "        \"./CNN Data/M1/159_Z_0.15625\",\n",
    "        \"./CNN Data/M1/160_Z_0.15625\",\n",
    "        \"./CNN Data/M1/161_Z_0.15625\",\n",
    "        \"./CNN Data/M1/162_Z_0.15625\",\n",
    "        \"./CNN Data/M1/163_Z_0.15625\",\n",
    "        \"./CNN Data/M1/164_Z_0.15625\",\n",
    "        \"./CNN Data/M1/165_Z_0.15625\",\n",
    "        \"./CNN Data/M1/166_Z_0.15625\",\n",
    "        \"./CNN Data/M1/167_Z_0.15625\",\n",
    "        \"./CNN Data/M1/168_Z_0.15625\",\n",
    "        \"./CNN Data/M1/169_Z_0.15625\",\n",
    "        \"./CNN Data/M1/170_Z_0.15625\",\n",
    "        \"./CNN Data/M1/150_Z_N0.15625\",\n",
    "        \"./CNN Data/M1/151_Z_N0.15625\",\n",
    "        \"./CNN Data/M1/152_Z_N0.15625\",\n",
    "        \"./CNN Data/M1/153_Z_N0.15625\",\n",
    "        \"./CNN Data/M1/154_Z_N0.15625\",\n",
    "        \"./CNN Data/M1/155_Z_N0.15625\",\n",
    "        \"./CNN Data/M1/156_Z_N0.15625\",\n",
    "        \"./CNN Data/M1/157_Z_N0.15625\",\n",
    "        \"./CNN Data/M1/158_Z_N0.15625\",\n",
    "        \"./CNN Data/M1/159_Z_N0.15625\",\n",
    "        \"./CNN Data/M1/160_Z_N0.15625\",\n",
    "        \"./CNN Data/M1/161_Z_N0.15625\",\n",
    "        \"./CNN Data/M1/162_Z_N0.15625\",\n",
    "        \"./CNN Data/M1/163_Z_N0.15625\",\n",
    "        \"./CNN Data/M1/164_Z_N0.15625\",\n",
    "        \"./CNN Data/M1/165_Z_N0.15625\",\n",
    "        \"./CNN Data/M1/166_Z_N0.15625\",\n",
    "        \"./CNN Data/M1/167_Z_N0.15625\",\n",
    "        \"./CNN Data/M1/168_Z_N0.15625\",\n",
    "        \"./CNN Data/M1/169_Z_N0.15625\",\n",
    "        \"./CNN Data/M1/170_Z_N0.15625\"]\n",
    "\n",
    "nt = len(path)\n",
    "nx = 256\n",
    "ny = 128\n",
    "nc = 10\n",
    "nf = 9\n",
    "nl = 1"
   ]
  },
  {
   "cell_type": "code",
   "execution_count": null,
   "id": "219da6e1",
   "metadata": {},
   "outputs": [],
   "source": [
    "nt"
   ]
  },
  {
   "cell_type": "code",
   "execution_count": null,
   "id": "e10dc1ad",
   "metadata": {},
   "outputs": [],
   "source": [
    "testPath = ['./CNN Data/M1/150_Z_0.21875',\n",
    "            './CNN Data/M1/151_Z_0.21875',\n",
    "            './CNN Data/M1/152_Z_0.21875',\n",
    "            './CNN Data/M1/153_Z_0.21875',\n",
    "            './CNN Data/M1/154_Z_0.21875',\n",
    "            './CNN Data/M1/155_Z_0.21875',\n",
    "            './CNN Data/M1/156_Z_0.21875',\n",
    "            './CNN Data/M1/157_Z_0.21875',\n",
    "            './CNN Data/M1/158_Z_0.21875',\n",
    "            './CNN Data/M1/159_Z_0.21875',\n",
    "            './CNN Data/M1/160_Z_0.21875',\n",
    "            './CNN Data/M1/161_Z_0.21875',\n",
    "            './CNN Data/M1/162_Z_0.21875',\n",
    "            './CNN Data/M1/163_Z_0.21875',\n",
    "            './CNN Data/M1/164_Z_0.21875',\n",
    "            './CNN Data/M1/165_Z_0.21875',\n",
    "            './CNN Data/M1/166_Z_0.21875',\n",
    "            './CNN Data/M1/167_Z_0.21875',\n",
    "            './CNN Data/M1/168_Z_0.21875',\n",
    "            './CNN Data/M1/169_Z_0.21875',\n",
    "            './CNN Data/M1/170_Z_0.21875']\n",
    "nt_test = len(testPath)"
   ]
  },
  {
   "cell_type": "code",
   "execution_count": null,
   "id": "f0e07c4b",
   "metadata": {},
   "outputs": [],
   "source": [
    "data = np.zeros([nt, nx, ny, nc])\n",
    "\n",
    "for t in range(nt):\n",
    "    with open(path[t], \"r\") as f:\n",
    "        f.readline()\n",
    "        for j in range(ny):\n",
    "            l = f.readline().split('\\t')\n",
    "            for i in range(nx):\n",
    "                for c in range(nc):\n",
    "                    data[t, i, j, c] = l[i*nc+c]"
   ]
  },
  {
   "cell_type": "code",
   "execution_count": null,
   "id": "997c6a03",
   "metadata": {},
   "outputs": [],
   "source": [
    "data_test = np.zeros([nt_test, nx, ny, nc])\n",
    "\n",
    "for t in range(nt_test):\n",
    "    with open(testPath[t], \"r\") as f:\n",
    "        f.readline()\n",
    "        for j in range(ny):\n",
    "            l = f.readline().split('\\t')\n",
    "            for i in range(nx):\n",
    "                for c in range(nc):\n",
    "                    data_test[t, i, j, c] = l[i*nc+c]"
   ]
  },
  {
   "cell_type": "code",
   "execution_count": null,
   "id": "46b50285",
   "metadata": {},
   "outputs": [],
   "source": [
    "np.random.shuffle(data)"
   ]
  },
  {
   "cell_type": "code",
   "execution_count": null,
   "id": "114b9e26",
   "metadata": {},
   "outputs": [],
   "source": [
    "feats = np.zeros([nt, nx, ny, nf])\n",
    "label = np.zeros([nt, nx, ny, nl])\n",
    "\n",
    "for t in range(nt):\n",
    "    for j in range(ny):\n",
    "        for i in range(nx):\n",
    "            for c in range(nc):\n",
    "                if c<(nc-1):\n",
    "                    feats[t, i, j, c] = data[t, i, j, c]\n",
    "                else:\n",
    "                    label[t, i, j, 0] = data[t, i, j,-1]   "
   ]
  },
  {
   "cell_type": "code",
   "execution_count": null,
   "id": "7a6f8248",
   "metadata": {},
   "outputs": [],
   "source": [
    "feats_test = np.zeros([nt_test, nx, ny, nf])\n",
    "label_test = np.zeros([nt_test, nx, ny, nl])\n",
    "\n",
    "for t in range(nt_test):\n",
    "    for j in range(ny):\n",
    "        for i in range(nx):\n",
    "            for c in range(nc):\n",
    "                if c<(nc-1):\n",
    "                    feats_test[t, i, j, c] = data_test[t, i, j, c]\n",
    "                else:\n",
    "                    label_test[t, i, j, 0] = data_test[t, i, j,-1]   "
   ]
  },
  {
   "cell_type": "code",
   "execution_count": null,
   "id": "46e02236",
   "metadata": {},
   "outputs": [],
   "source": [
    "split = int(0.8 * nt)\n",
    "x_train = feats[0:split,:,:,:]\n",
    "y_train = label[0:split,:,:,:]\n",
    "\n",
    "x_val = feats[split+1:,:,:,:]\n",
    "y_val = label[split+1:,:,:,:]"
   ]
  },
  {
   "cell_type": "code",
   "execution_count": null,
   "id": "15ac5b59",
   "metadata": {},
   "outputs": [],
   "source": [
    "plt.imshow(label[1,:,:,0], cmap='jet')"
   ]
  },
  {
   "cell_type": "code",
   "execution_count": null,
   "id": "12048cde",
   "metadata": {},
   "outputs": [],
   "source": [
    "print(\"Reading data:\")\n",
    "for i in range(nc):\n",
    "    print(data[0, -1,-1,i])   \n",
    "         \n",
    "print(\"\\nReading feats and label:\")\n",
    "for i in range(nc-1):\n",
    "    print(feats[0, -1,-1,i])    \n",
    "print(label[0, -1,-1,0])"
   ]
  },
  {
   "cell_type": "code",
   "execution_count": null,
   "id": "1838bb94",
   "metadata": {},
   "outputs": [],
   "source": [
    "def CC(true, pred):\n",
    "    true = tf.cast(true, tf.float32)\n",
    "    pred = tf.cast(pred, tf.float32)\n",
    "    cov = K.sum( (true - K.mean(true)) * (pred - K.mean(pred)) ) / ( len(true) - 1 )\n",
    "    sigma = lambda y : np.sqrt(K.mean(K.square(y - K.mean(y))))\n",
    "    return cov / ( sigma(true) * sigma(pred) )"
   ]
  },
  {
   "cell_type": "code",
   "execution_count": null,
   "id": "665d42cc",
   "metadata": {},
   "outputs": [],
   "source": [
    "def coeff_determination(y_true, y_pred):\n",
    "    SS_res =  K.sum(K.square( y_true-y_pred ))\n",
    "    SS_tot = K.sum(K.square( y_true - K.mean(y_true) ) )\n",
    "    return ( 1 - SS_res/(SS_tot + K.epsilon()) )"
   ]
  },
  {
   "cell_type": "code",
   "execution_count": null,
   "id": "ffbc5ec5",
   "metadata": {},
   "outputs": [],
   "source": [
    "def Model(Nn, Nx, Ny, Nf, Nl, Nly):\n",
    "    de = [1, 2, 4, 8, 16]\n",
    "    model = tf.keras.models.Sequential()\n",
    "    input_layer = tf.keras.layers.Input(shape=(nx, ny, nf))\n",
    "    x = tf.keras.layers.Conv2D(int(Nn/de[0]), (3,3), activation='relu', padding='same')(input_layer)\n",
    "    x = tf.keras.layers.MaxPooling2D((2,2), padding='same')(x)\n",
    "    for i in range(1, Nly):\n",
    "        x = tf.keras.layers.Conv2D(int(Nn/de[i]), (3,3), activation='relu', padding='same')(x)\n",
    "        x = tf.keras.layers.MaxPooling2D((2,2), padding='same')(x)\n",
    "    for i in range(1, Nly+1):\n",
    "        x = tf.keras.layers.Conv2D(int(Nn/de[Nly-i]), (3,3), activation='relu', padding='same')(x)\n",
    "        x = tf.keras.layers.UpSampling2D((2,2))(x)\n",
    "    output_layer = tf.keras.layers.Conv2D(nl, (3,3), activation='linear', padding='same')(x)\n",
    "    \n",
    "    model = tf.keras.models.Model(input_layer, output_layer)\n",
    "    adam = tf.keras.optimizers.legacy.Adam(learning_rate=0.001, beta_1=0.9, \n",
    "                                           beta_2=0.999, epsilon=None, decay=0.0, amsgrad=False)\n",
    "    model.compile(loss='mean_squared_error', optimizer='adam', metrics=[coeff_determination])\n",
    "    model._name = f'model_n_{Nn}_lay_{Nly}'\n",
    "    \n",
    "    return model"
   ]
  },
  {
   "cell_type": "code",
   "execution_count": null,
   "id": "cb766563",
   "metadata": {},
   "outputs": [],
   "source": [
    "neuron = 256 #[32, 64, 128, 256]\n",
    "layer = 5 #[2, 3, 4, 5]\n",
    "checkpoints = tf.keras.callbacks.ModelCheckpoint(filepath='CNN_checkpoints/M1_weight-{epoch:02d}.h5', \n",
    "                                                  monitor='val_loss', \n",
    "                                                  verbose=1, \n",
    "                                                  save_best_only=True, \n",
    "                                                  mode='min')\n",
    "model = Model(neuron, nx, ny, nf, nl, layer)\n",
    "model.summary()\n",
    "history_callback = model.fit(x_train, y_train, epochs=5000, batch_size=16, \n",
    "                            validation_data=[x_val, y_val], validation_batch_size=4, \n",
    "                            callbacks=[checkpoints])"
   ]
  },
  {
   "cell_type": "code",
   "execution_count": null,
   "id": "eac90f56",
   "metadata": {},
   "outputs": [],
   "source": [
    "import pickle\n",
    "\n",
    "trainHistF = './CNN_M1_trainFit.history'\n",
    "with open(trainHistF, 'wb') as f:\n",
    "    pickle.dump(history_callback.history, f)"
   ]
  },
  {
   "cell_type": "code",
   "execution_count": null,
   "id": "8099d5ae",
   "metadata": {},
   "outputs": [],
   "source": [
    "def movingAvg(vec, window):\n",
    "    retVec = []\n",
    "    for ind in range(len(vec) - window + 1):\n",
    "        retVec.append(np.mean(vec[ind:ind+window]))\n",
    "        \n",
    "    return retVec"
   ]
  },
  {
   "cell_type": "code",
   "execution_count": null,
   "id": "784ce059",
   "metadata": {},
   "outputs": [],
   "source": [
    "plt.plot(movingAvg(history_callback.history[\"coeff_determination\"][:-1], 100), 'b-')\n",
    "plt.plot(movingAvg(history_callback.history[\"val_coeff_determination\"][:-1], 100), 'r-')\n",
    "plt.rcParams.update({'font.size':14})\n",
    "plt.xlabel(r'epochs')\n",
    "plt.ylabel(r'r2')\n",
    "plt.legend(['trainig', 'validation'])\n",
    "#plt.ylim([0.5, 1.])\n",
    "plt.savefig(f'./CNN_Results/CNN_M1_R2_{model.name}.png')"
   ]
  },
  {
   "cell_type": "code",
   "execution_count": null,
   "id": "023349c0",
   "metadata": {},
   "outputs": [],
   "source": [
    "plt.plot(movingAvg(history_callback.history[\"loss\"][:1500], 2), 'b-')\n",
    "plt.plot(movingAvg(history_callback.history[\"val_loss\"][:1500], 2), 'r-')\n",
    "plt.rcParams.update({'font.size':14})\n",
    "plt.xlabel(r'epochs')\n",
    "plt.ylabel(r'loss')\n",
    "plt.legend(['trainig', 'validation'])\n",
    "#plt.ylim([0, 0.7])\n",
    "plt.savefig(f'./CNN_Results/CNN_M1_Loss_{model.name}.png')"
   ]
  },
  {
   "cell_type": "code",
   "execution_count": null,
   "id": "2b4dc945",
   "metadata": {},
   "outputs": [],
   "source": [
    "neuron = 256 #[32, 64, 128, 256]\n",
    "layer = 5 #[2, 3, 4, 5]\n",
    "model = Model(neuron, nx, ny, nf, nl, layer)\n",
    "model.load_weights('/home/hmarefat/scratch/NECEC2023_local/CNN_checkpoints/M1_weight-4679.h5')"
   ]
  },
  {
   "cell_type": "code",
   "execution_count": null,
   "id": "df3390dd",
   "metadata": {},
   "outputs": [],
   "source": [
    "y_pred = model.predict(data[1:2,:,:,0:-1])"
   ]
  },
  {
   "cell_type": "code",
   "execution_count": null,
   "id": "cde036b4",
   "metadata": {},
   "outputs": [],
   "source": [
    "import matplotlib.pyplot as plt\n",
    "\n",
    "plt.subplot(1, 2, 1)\n",
    "plt.imshow(data[1,:,:,-1], cmap='jet')\n",
    "plt.title('Dynamic Smag')\n",
    "plt.xticks([], [])\n",
    "plt.yticks([], [])\n",
    "plt.subplot(1, 2, 2)\n",
    "plt.imshow(y_pred[0,:,:,-1], cmap='jet')\n",
    "plt.title('CNN')\n",
    "plt.xticks([], [])\n",
    "plt.yticks([], [])\n",
    "plt.rcParams.update({'font.size':14})\n",
    "plt.savefig(f'./CNN_Results/CNN_M1_CsSnapShot_{model.name}.png')"
   ]
  },
  {
   "cell_type": "code",
   "execution_count": null,
   "id": "2e347c78",
   "metadata": {},
   "outputs": [],
   "source": [
    "data[1,:,:,-1].shape, y_pred[0,:,:,-1].shape"
   ]
  },
  {
   "cell_type": "code",
   "execution_count": null,
   "id": "3a62f382",
   "metadata": {},
   "outputs": [],
   "source": [
    "Cs_true = data[1,:,:,-1].reshape([data[1,:,:,-1].shape[0]*data[1,:,:,-1].shape[1],1])\n",
    "Cs_pred = y_pred[0,:,:,-1].reshape([y_pred[0,:,:,-1].shape[0]*y_pred[0,:,:,-1].shape[1],1])"
   ]
  },
  {
   "cell_type": "code",
   "execution_count": null,
   "id": "ec11b916",
   "metadata": {},
   "outputs": [],
   "source": [
    "cc_train = CC(Cs_true, Cs_pred)\n",
    "cc_train"
   ]
  },
  {
   "cell_type": "code",
   "execution_count": null,
   "id": "340e0878",
   "metadata": {},
   "outputs": [],
   "source": [
    "Cs_true.shape, Cs_pred.shape"
   ]
  },
  {
   "cell_type": "code",
   "execution_count": null,
   "id": "76aa78a6",
   "metadata": {},
   "outputs": [],
   "source": [
    "plt.hist(Cs_true, bins=8000, density=True, alpha=0.6, histtype=u'step', color='blue')\n",
    "plt.hist(Cs_pred, bins=8000, density=True, alpha=0.6, histtype=u'step', color='red')\n",
    "plt.legend(['Dynamic Smag', 'CNN'])\n",
    "plt.xlabel(r'$C_s$')\n",
    "plt.ylabel(r'Density')\n",
    "#plt.title('Seen Data Comparison')\n",
    "plt.xlim([-0.03,0.03])\n",
    "plt.savefig(f'./CNN_Results/CNN_M1_SeenDensity_{model.name}.png')"
   ]
  },
  {
   "cell_type": "code",
   "execution_count": null,
   "id": "f6654202",
   "metadata": {},
   "outputs": [],
   "source": [
    "y_test_pred = model.predict(np.expand_dims(data_test[1,:,:,0:-1], axis=0))"
   ]
  },
  {
   "cell_type": "code",
   "execution_count": null,
   "id": "39ccc1c8",
   "metadata": {},
   "outputs": [],
   "source": [
    "Cs_test_true = data_test[1,:,:,-1].reshape([data_test[1,:,:,-1].shape[0]*data_test[1,:,:,-1].shape[1],1])\n",
    "Cs_test_pred = y_test_pred[0,:,:,-1].reshape([y_test_pred[0,:,:,-1].shape[0]*y_test_pred[0,:,:,-1].shape[1],1])"
   ]
  },
  {
   "cell_type": "code",
   "execution_count": null,
   "id": "3cd39d83",
   "metadata": {},
   "outputs": [],
   "source": [
    "cc_test = CC(Cs_test_true, Cs_test_pred)\n",
    "cc_test"
   ]
  },
  {
   "cell_type": "code",
   "execution_count": null,
   "id": "eb98bf2f",
   "metadata": {},
   "outputs": [],
   "source": [
    "plt.hist(Cs_test_true, bins=2000, density=True, alpha=0.6, histtype=u'step', color='blue')\n",
    "plt.hist(Cs_test_pred, bins=2000, density=True, alpha=0.6, histtype=u'step', color='red')\n",
    "plt.legend(['Dynamic Smag', 'CNN'])\n",
    "plt.xlabel(r'$C_s$')\n",
    "plt.ylabel(r'Density')\n",
    "#plt.title('Seen Data Comparison')\n",
    "plt.xlim([-0.03,0.03])\n",
    "plt.savefig(f'./CNN_Results/CNN_M1_UnSeenDensity_{model.name}.png')"
   ]
  },
  {
   "cell_type": "code",
   "execution_count": null,
   "id": "dbbb6f16",
   "metadata": {},
   "outputs": [],
   "source": [
    "!nvidia-smi"
   ]
  }
 ],
 "metadata": {
  "kernelspec": {
   "display_name": "Python 3 (ipykernel)",
   "language": "python",
   "name": "python3"
  },
  "language_info": {
   "codemirror_mode": {
    "name": "ipython",
    "version": 3
   },
   "file_extension": ".py",
   "mimetype": "text/x-python",
   "name": "python",
   "nbconvert_exporter": "python",
   "pygments_lexer": "ipython3",
   "version": "3.8.10"
  }
 },
 "nbformat": 4,
 "nbformat_minor": 5
}
