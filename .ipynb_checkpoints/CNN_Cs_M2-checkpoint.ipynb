{
 "cells": [
  {
   "cell_type": "code",
   "execution_count": null,
   "id": "8e8f3196",
   "metadata": {
    "scrolled": true
   },
   "outputs": [],
   "source": [
    "import numpy as np\n",
    "import tensorflow as tf\n",
    "from tensorflow.keras import backend as K\n",
    "import matplotlib.pyplot as plt\n",
    "import vtk \n",
    "from vtk.util import numpy_support as VN\n",
    "import matplotlib.tri as tri"
   ]
  },
  {
   "cell_type": "code",
   "execution_count": null,
   "id": "1f0abf5c",
   "metadata": {},
   "outputs": [],
   "source": [
    "tf.config.list_physical_devices('GPU')"
   ]
  },
  {
   "cell_type": "code",
   "execution_count": null,
   "id": "34af41fc",
   "metadata": {},
   "outputs": [],
   "source": [
    "path = [\"CNN Data/M2/150_GUp_Z_0.031250\", \n",
    "       \"CNN Data/M2/151_GUp_Z_0.031250\",\n",
    "       \"CNN Data/M2/152_GUp_Z_0.031250\",\n",
    "       \"CNN Data/M2/153_GUp_Z_0.031250\",\n",
    "       \"CNN Data/M2/154_GUp_Z_0.031250\",\n",
    "       \"CNN Data/M2/155_GUp_Z_0.031250\",\n",
    "       \"CNN Data/M2/156_GUp_Z_0.031250\",\n",
    "       \"CNN Data/M2/157_GUp_Z_0.031250\",\n",
    "       \"CNN Data/M2/158_GUp_Z_0.031250\",\n",
    "       \"CNN Data/M2/159_GUp_Z_0.031250\",\n",
    "       \"CNN Data/M2/160_GUp_Z_0.031250\",\n",
    "       \"CNN Data/M2/150_GUp_Z_N-0.031250\",\n",
    "       \"CNN Data/M2/151_GUp_Z_N-0.031250\",\n",
    "       \"CNN Data/M2/152_GUp_Z_N-0.031250\",\n",
    "       \"CNN Data/M2/153_GUp_Z_N-0.031250\",\n",
    "       \"CNN Data/M2/154_GUp_Z_N-0.031250\",\n",
    "       \"CNN Data/M2/155_GUp_Z_N-0.031250\",\n",
    "       \"CNN Data/M2/156_GUp_Z_N-0.031250\",\n",
    "       \"CNN Data/M2/157_GUp_Z_N-0.031250\",\n",
    "       \"CNN Data/M2/158_GUp_Z_N-0.031250\",\n",
    "       \"CNN Data/M2/159_GUp_Z_N-0.031250\",\n",
    "       \"CNN Data/M2/160_GUp_Z_N-0.031250\",\n",
    "       \"CNN Data/M2/161_GUp_Z_N-0.031250\",\n",
    "       \"CNN Data/M2/162_GUp_Z_N-0.031250\",\n",
    "       \"CNN Data/M2/163_GUp_Z_N-0.031250\",\n",
    "       \"CNN Data/M2/164_GUp_Z_N-0.031250\",\n",
    "       \"CNN Data/M2/165_GUp_Z_N-0.031250\",\n",
    "       \"CNN Data/M2/166_GUp_Z_N-0.031250\",\n",
    "       \"CNN Data/M2/167_GUp_Z_N-0.031250\",\n",
    "       \"CNN Data/M2/168_GUp_Z_N-0.031250\",\n",
    "       \"CNN Data/M2/169_GUp_Z_N-0.031250\",\n",
    "       \"CNN Data/M2/170_GUp_Z_N-0.031250\",\n",
    "       \"CNN Data/M2/150_GUp_Z_0.093750\",\n",
    "       \"CNN Data/M2/151_GUp_Z_0.093750\",\n",
    "       \"CNN Data/M2/152_GUp_Z_0.093750\",\n",
    "       \"CNN Data/M2/153_GUp_Z_0.093750\",\n",
    "       \"CNN Data/M2/154_GUp_Z_0.093750\",\n",
    "       \"CNN Data/M2/155_GUp_Z_0.093750\",\n",
    "       \"CNN Data/M2/156_GUp_Z_0.093750\",\n",
    "       \"CNN Data/M2/157_GUp_Z_0.093750\",\n",
    "       \"CNN Data/M2/158_GUp_Z_0.093750\",\n",
    "       \"CNN Data/M2/159_GUp_Z_0.093750\",\n",
    "       \"CNN Data/M2/160_GUp_Z_0.093750\",\n",
    "       \"CNN Data/M2/161_GUp_Z_0.093750\",\n",
    "       \"CNN Data/M2/162_GUp_Z_0.093750\",\n",
    "       \"CNN Data/M2/163_GUp_Z_0.093750\",\n",
    "       \"CNN Data/M2/164_GUp_Z_0.093750\",\n",
    "       \"CNN Data/M2/165_GUp_Z_0.093750\",\n",
    "       \"CNN Data/M2/166_GUp_Z_0.093750\",\n",
    "       \"CNN Data/M2/167_GUp_Z_0.093750\",\n",
    "       \"CNN Data/M2/168_GUp_Z_0.093750\",\n",
    "       \"CNN Data/M2/169_GUp_Z_0.093750\",\n",
    "       \"CNN Data/M2/170_GUp_Z_0.093750\",\n",
    "       \"CNN Data/M2/150_GUp_Z_N-0.093750\",\n",
    "       \"CNN Data/M2/151_GUp_Z_N-0.093750\",\n",
    "       \"CNN Data/M2/152_GUp_Z_N-0.093750\",\n",
    "       \"CNN Data/M2/153_GUp_Z_N-0.093750\",\n",
    "       \"CNN Data/M2/154_GUp_Z_N-0.093750\",\n",
    "       \"CNN Data/M2/155_GUp_Z_N-0.093750\",\n",
    "       \"CNN Data/M2/156_GUp_Z_N-0.093750\",\n",
    "       \"CNN Data/M2/157_GUp_Z_N-0.093750\",\n",
    "       \"CNN Data/M2/158_GUp_Z_N-0.093750\",\n",
    "       \"CNN Data/M2/159_GUp_Z_N-0.093750\",\n",
    "       \"CNN Data/M2/160_GUp_Z_N-0.093750\",\n",
    "       \"CNN Data/M2/161_GUp_Z_N-0.093750\",\n",
    "       \"CNN Data/M2/162_GUp_Z_N-0.093750\",\n",
    "       \"CNN Data/M2/163_GUp_Z_N-0.093750\",\n",
    "       \"CNN Data/M2/164_GUp_Z_N-0.093750\",\n",
    "       \"CNN Data/M2/165_GUp_Z_N-0.093750\",\n",
    "       \"CNN Data/M2/166_GUp_Z_N-0.093750\",\n",
    "       \"CNN Data/M2/167_GUp_Z_N-0.093750\",\n",
    "       \"CNN Data/M2/168_GUp_Z_N-0.093750\",\n",
    "       \"CNN Data/M2/169_GUp_Z_N-0.093750\",\n",
    "       \"CNN Data/M2/170_GUp_Z_N-0.093750\",\n",
    "       \"CNN Data/M2/150_GUp_Z_0.156250\",\n",
    "       \"CNN Data/M2/151_GUp_Z_0.156250\",\n",
    "       \"CNN Data/M2/152_GUp_Z_0.156250\",\n",
    "       \"CNN Data/M2/153_GUp_Z_0.156250\",\n",
    "       \"CNN Data/M2/154_GUp_Z_0.156250\",\n",
    "       \"CNN Data/M2/155_GUp_Z_0.156250\",\n",
    "       \"CNN Data/M2/156_GUp_Z_0.156250\",\n",
    "       \"CNN Data/M2/157_GUp_Z_0.156250\",\n",
    "       \"CNN Data/M2/158_GUp_Z_0.156250\",\n",
    "       \"CNN Data/M2/159_GUp_Z_0.156250\",\n",
    "       \"CNN Data/M2/160_GUp_Z_0.156250\",\n",
    "       \"CNN Data/M2/161_GUp_Z_0.156250\",\n",
    "       \"CNN Data/M2/162_GUp_Z_0.156250\",\n",
    "       \"CNN Data/M2/163_GUp_Z_0.156250\",\n",
    "       \"CNN Data/M2/164_GUp_Z_0.156250\",\n",
    "       \"CNN Data/M2/165_GUp_Z_0.156250\",\n",
    "       \"CNN Data/M2/166_GUp_Z_0.156250\",\n",
    "       \"CNN Data/M2/167_GUp_Z_0.156250\",\n",
    "       \"CNN Data/M2/168_GUp_Z_0.156250\",\n",
    "       \"CNN Data/M2/169_GUp_Z_0.156250\",\n",
    "       \"CNN Data/M2/170_GUp_Z_0.156250\",\n",
    "       \"CNN Data/M2/150_GUp_Z_N-0.156250\",\n",
    "       \"CNN Data/M2/151_GUp_Z_N-0.156250\",\n",
    "       \"CNN Data/M2/152_GUp_Z_N-0.156250\",\n",
    "       \"CNN Data/M2/153_GUp_Z_N-0.156250\",\n",
    "       \"CNN Data/M2/154_GUp_Z_N-0.156250\",\n",
    "       \"CNN Data/M2/155_GUp_Z_N-0.156250\",\n",
    "       \"CNN Data/M2/156_GUp_Z_N-0.156250\",\n",
    "       \"CNN Data/M2/157_GUp_Z_N-0.156250\",\n",
    "       \"CNN Data/M2/158_GUp_Z_N-0.156250\",\n",
    "       \"CNN Data/M2/159_GUp_Z_N-0.156250\",\n",
    "       \"CNN Data/M2/160_GUp_Z_N-0.156250\",\n",
    "       \"CNN Data/M2/161_GUp_Z_N-0.156250\",\n",
    "       \"CNN Data/M2/162_GUp_Z_N-0.156250\",\n",
    "       \"CNN Data/M2/163_GUp_Z_N-0.156250\",\n",
    "       \"CNN Data/M2/164_GUp_Z_N-0.156250\",\n",
    "       \"CNN Data/M2/165_GUp_Z_N-0.156250\",\n",
    "       \"CNN Data/M2/166_GUp_Z_N-0.156250\",\n",
    "       \"CNN Data/M2/167_GUp_Z_N-0.156250\",\n",
    "       \"CNN Data/M2/168_GUp_Z_N-0.156250\",\n",
    "       \"CNN Data/M2/169_GUp_Z_N-0.156250\",\n",
    "       \"CNN Data/M2/170_GUp_Z_N-0.156250\"]\n",
    "\n",
    "nt = len(path)\n",
    "nx = 256\n",
    "ny = 128\n",
    "nc = 13\n",
    "nf = 12\n",
    "nl = 1"
   ]
  },
  {
   "cell_type": "code",
   "execution_count": null,
   "id": "219da6e1",
   "metadata": {},
   "outputs": [],
   "source": [
    "nt"
   ]
  },
  {
   "cell_type": "code",
   "execution_count": null,
   "id": "e10dc1ad",
   "metadata": {},
   "outputs": [],
   "source": [
    "testPath = ['CNN Data/M2/150_GUp_Z_0.218750',\n",
    "           'CNN Data/M2/151_GUp_Z_0.218750',\n",
    "           'CNN Data/M2/152_GUp_Z_0.218750',\n",
    "           'CNN Data/M2/153_GUp_Z_0.218750',\n",
    "           'CNN Data/M2/154_GUp_Z_0.218750',\n",
    "           'CNN Data/M2/155_GUp_Z_0.218750',\n",
    "           'CNN Data/M2/156_GUp_Z_0.218750',\n",
    "           'CNN Data/M2/157_GUp_Z_0.218750',\n",
    "           'CNN Data/M2/158_GUp_Z_0.218750',\n",
    "           'CNN Data/M2/159_GUp_Z_0.218750',\n",
    "           'CNN Data/M2/160_GUp_Z_0.218750',\n",
    "           'CNN Data/M2/161_GUp_Z_0.218750',\n",
    "           'CNN Data/M2/162_GUp_Z_0.218750',\n",
    "           'CNN Data/M2/163_GUp_Z_0.218750',\n",
    "           'CNN Data/M2/164_GUp_Z_0.218750',\n",
    "           'CNN Data/M2/165_GUp_Z_0.218750',\n",
    "           'CNN Data/M2/166_GUp_Z_0.218750',\n",
    "           'CNN Data/M2/167_GUp_Z_0.218750',\n",
    "           'CNN Data/M2/168_GUp_Z_0.218750',\n",
    "           'CNN Data/M2/169_GUp_Z_0.218750',\n",
    "           'CNN Data/M2/170_GUp_Z_0.218750']\n",
    "nt_test = len(testPath)"
   ]
  },
  {
   "cell_type": "code",
   "execution_count": null,
   "id": "f0e07c4b",
   "metadata": {},
   "outputs": [],
   "source": [
    "data = np.zeros([nt, nx, ny, nc])\n",
    "\n",
    "for t in range(nt):\n",
    "    with open(path[t], \"r\") as f:\n",
    "        f.readline()\n",
    "        for j in range(ny):\n",
    "            l = f.readline().split('\\t')\n",
    "            for i in range(nx):\n",
    "                for c in range(nc):\n",
    "                    data[t, i, j, c] = l[i*nc+c]"
   ]
  },
  {
   "cell_type": "code",
   "execution_count": null,
   "id": "997c6a03",
   "metadata": {},
   "outputs": [],
   "source": [
    "data_test = np.zeros([nt_test, nx, ny, nc])\n",
    "\n",
    "for t in range(nt_test):\n",
    "    with open(testPath[t], \"r\") as f:\n",
    "        f.readline()\n",
    "        for j in range(ny):\n",
    "            l = f.readline().split('\\t')\n",
    "            for i in range(nx):\n",
    "                for c in range(nc):\n",
    "                    data_test[t, i, j, c] = l[i*nc+c]"
   ]
  },
  {
   "cell_type": "code",
   "execution_count": null,
   "id": "46b50285",
   "metadata": {},
   "outputs": [],
   "source": [
    "np.random.shuffle(data)"
   ]
  },
  {
   "cell_type": "code",
   "execution_count": null,
   "id": "114b9e26",
   "metadata": {},
   "outputs": [],
   "source": [
    "feats = np.zeros([nt, nx, ny, nf])\n",
    "label = np.zeros([nt, nx, ny, nl])\n",
    "\n",
    "for t in range(nt):\n",
    "    for j in range(ny):\n",
    "        for i in range(nx):\n",
    "            for c in range(nc):\n",
    "                if c<(nc-1):\n",
    "                    feats[t, i, j, c] = data[t, i, j, c]\n",
    "                else:\n",
    "                    label[t, i, j, 0] = data[t, i, j,-1]   "
   ]
  },
  {
   "cell_type": "code",
   "execution_count": null,
   "id": "7a6f8248",
   "metadata": {},
   "outputs": [],
   "source": [
    "feats_test = np.zeros([nt_test, nx, ny, nf])\n",
    "label_test = np.zeros([nt_test, nx, ny, nl])\n",
    "\n",
    "for t in range(nt_test):\n",
    "    for j in range(ny):\n",
    "        for i in range(nx):\n",
    "            for c in range(nc):\n",
    "                if c<(nc-1):\n",
    "                    feats_test[t, i, j, c] = data_test[t, i, j, c]\n",
    "                else:\n",
    "                    label_test[t, i, j, 0] = data_test[t, i, j,-1]   "
   ]
  },
  {
   "cell_type": "code",
   "execution_count": null,
   "id": "46e02236",
   "metadata": {},
   "outputs": [],
   "source": [
    "split = int(0.8 * nt)\n",
    "x_train = feats[0:split,:,:,:]\n",
    "y_train = label[0:split,:,:,:]\n",
    "\n",
    "x_val = feats[split+1:,:,:,:]\n",
    "y_val = label[split+1:,:,:,:]"
   ]
  },
  {
   "cell_type": "code",
   "execution_count": null,
   "id": "15ac5b59",
   "metadata": {},
   "outputs": [],
   "source": [
    "plt.imshow(label[1,:,:,0], cmap='jet')"
   ]
  },
  {
   "cell_type": "code",
   "execution_count": null,
   "id": "12048cde",
   "metadata": {},
   "outputs": [],
   "source": [
    "print(\"Reading data:\")\n",
    "for i in range(nc):\n",
    "    print(data[0, -1,-1,i])   \n",
    "         \n",
    "print(\"\\nReading feats and label:\")\n",
    "for i in range(nc-1):\n",
    "    print(feats[0, -1,-1,i])    \n",
    "print(label[0, -1,-1,0])"
   ]
  },
  {
   "cell_type": "code",
   "execution_count": null,
   "id": "aa5580a6",
   "metadata": {},
   "outputs": [],
   "source": [
    "def CC(true, pred):\n",
    "    true = tf.cast(true, tf.float32)\n",
    "    pred = tf.cast(pred, tf.float32)\n",
    "    cov = K.sum( (true - K.mean(true)) * (pred - K.mean(pred)) ) / ( len(true) - 1 )\n",
    "    sigma = lambda y : np.sqrt(K.mean(K.square(y - K.mean(y))))\n",
    "    return cov / ( sigma(true) * sigma(pred) )"
   ]
  },
  {
   "cell_type": "code",
   "execution_count": null,
   "id": "6b2cfedd",
   "metadata": {},
   "outputs": [],
   "source": [
    "def coeff_determination(y_true, y_pred):\n",
    "    SS_res =  K.sum(K.square( y_true-y_pred ))\n",
    "    SS_tot = K.sum(K.square( y_true - K.mean(y_true) ) )\n",
    "    return ( 1 - SS_res/(SS_tot + K.epsilon()) )"
   ]
  },
  {
   "cell_type": "code",
   "execution_count": null,
   "id": "e1f77809",
   "metadata": {},
   "outputs": [],
   "source": [
    "def Model(Nn, Nx, Ny, Nf, Nl, Nly):\n",
    "    de = [1, 2, 4, 8, 16]\n",
    "    model = tf.keras.models.Sequential()\n",
    "    input_layer = tf.keras.layers.Input(shape=(nx, ny, nf))\n",
    "    x = tf.keras.layers.Conv2D(int(Nn/de[0]), (3,3), activation='relu', padding='same')(input_layer)\n",
    "    x = tf.keras.layers.MaxPooling2D((2,2), padding='same')(x)\n",
    "    for i in range(1, Nly):\n",
    "        x = tf.keras.layers.Conv2D(int(Nn/de[i]), (3,3), activation='relu', padding='same')(x)\n",
    "        x = tf.keras.layers.MaxPooling2D((2,2), padding='same')(x)\n",
    "    for i in range(1, Nly+1):\n",
    "        x = tf.keras.layers.Conv2D(int(Nn/de[Nly-i]), (3,3), activation='relu', padding='same')(x)\n",
    "        x = tf.keras.layers.UpSampling2D((2,2))(x)\n",
    "    output_layer = tf.keras.layers.Conv2D(nl, (3,3), activation='linear', padding='same')(x)\n",
    "    \n",
    "    model = tf.keras.models.Model(input_layer, output_layer)\n",
    "    adam = tf.keras.optimizers.legacy.Adam(learning_rate=0.001, beta_1=0.9, \n",
    "                                           beta_2=0.999, epsilon=None, decay=0.0, amsgrad=False)\n",
    "    model.compile(loss='mean_squared_error', optimizer='adam', metrics=[coeff_determination])\n",
    "    model._name = f'model_n_{Nn}_lay_{Nly}'\n",
    "    \n",
    "    return model"
   ]
  },
  {
   "cell_type": "code",
   "execution_count": null,
   "id": "b2127929",
   "metadata": {},
   "outputs": [],
   "source": [
    "neuron = 256 #[32, 64, 128, 256]\n",
    "layer = 5 #[2, 3, 4, 5]\n",
    "checkpoints = tf.keras.callbacks.ModelCheckpoint(filepath='CNN_checkpoints/M2_weight-{epoch:02d}.h5', \n",
    "                                                  monitor='val_loss', \n",
    "                                                  verbose=1, \n",
    "                                                  save_best_only=True, \n",
    "                                                  mode='min')\n",
    "model = Model(neuron, nx, ny, nf, nl, layer)\n",
    "model.summary()\n",
    "history_callback = model.fit(x_train, y_train, epochs=5000, batch_size=16, \n",
    "                            validation_data=[x_val, y_val], validation_batch_size=4, \n",
    "                            callbacks=[checkpoints])"
   ]
  },
  {
   "cell_type": "code",
   "execution_count": null,
   "id": "c2f911b5",
   "metadata": {},
   "outputs": [],
   "source": [
    "import pickle\n",
    "\n",
    "trainHistF = './CNN_M2_trainFit.history'\n",
    "with open(trainHistF, 'wb') as f:\n",
    "    pickle.dump(history_callback.history, f)"
   ]
  },
  {
   "cell_type": "code",
   "execution_count": null,
   "id": "6a312b38",
   "metadata": {},
   "outputs": [],
   "source": [
    "def movingAvg(vec, window):\n",
    "    retVec = []\n",
    "    for ind in range(len(vec) - window + 1):\n",
    "        retVec.append(np.mean(vec[ind:ind+window]))\n",
    "        \n",
    "    return retVec"
   ]
  },
  {
   "cell_type": "code",
   "execution_count": null,
   "id": "6cd3b68f",
   "metadata": {},
   "outputs": [],
   "source": [
    "plt.plot(movingAvg(history_callback.history[\"coeff_determination\"][:-1], 100), 'b-')\n",
    "plt.plot(movingAvg(history_callback.history[\"val_coeff_determination\"][:-1], 100), 'r-')\n",
    "plt.rcParams.update({'font.size':14})\n",
    "plt.xlabel(r'epochs')\n",
    "plt.ylabel(r'r2')\n",
    "plt.legend(['trainig', 'validation'])\n",
    "#plt.ylim([0.5, 1.])\n",
    "plt.savefig(f'./CNN_Results/CNN_M2_R2_{model.name}.png')"
   ]
  },
  {
   "cell_type": "code",
   "execution_count": null,
   "id": "d9d1fee8",
   "metadata": {},
   "outputs": [],
   "source": [
    "plt.plot(movingAvg(history_callback.history[\"loss\"][:-1], 2), 'b-')\n",
    "plt.plot(movingAvg(history_callback.history[\"val_loss\"][:-1], 2), 'r-')\n",
    "plt.rcParams.update({'font.size':14})\n",
    "plt.xlabel(r'epochs')\n",
    "plt.ylabel(r'loss')\n",
    "plt.legend(['trainig', 'validation'])\n",
    "#plt.ylim([0, 0.7])\n",
    "plt.savefig(f'./CNN_Results/CNN_M2_Loss_{model.name}.png')"
   ]
  },
  {
   "cell_type": "code",
   "execution_count": null,
   "id": "2b4dc945",
   "metadata": {},
   "outputs": [],
   "source": [
    "neuron = 256 #[32, 64, 128, 256]\n",
    "layer = 5 #[2, 3, 4, 5]\n",
    "model_s = Model(neuron, nx, ny, nf, nl, layer)\n",
    "model_s.load_weights('/home/hmarefat/scratch/NECEC2023_local/CNN_checkpoints/M2_weight-1090.h5')"
   ]
  },
  {
   "cell_type": "code",
   "execution_count": null,
   "id": "df3390dd",
   "metadata": {},
   "outputs": [],
   "source": [
    "y_pred = model_s.predict(np.expand_dims(data[1,:,:,0:-1], axis=0))"
   ]
  },
  {
   "cell_type": "code",
   "execution_count": null,
   "id": "cde036b4",
   "metadata": {},
   "outputs": [],
   "source": [
    "import matplotlib.pyplot as plt\n",
    "\n",
    "plt.subplot(1, 2, 1)\n",
    "plt.imshow(data[1,:,:,-1], cmap='jet')\n",
    "plt.title('Dynamic Smag')\n",
    "plt.xticks([], [])\n",
    "plt.yticks([], [])\n",
    "plt.subplot(1, 2, 2)\n",
    "plt.imshow(y_pred[0,:,:,-1], cmap='jet')\n",
    "plt.title('CNN')\n",
    "plt.xticks([], [])\n",
    "plt.yticks([], [])\n",
    "plt.rcParams.update({'font.size':12})\n",
    "plt.savefig(f'./CNN_Results/CNN_M2_CsSnapShot_{model.name}.png')"
   ]
  },
  {
   "cell_type": "code",
   "execution_count": null,
   "id": "2e347c78",
   "metadata": {},
   "outputs": [],
   "source": [
    "data[1,:,:,-1].shape, y_pred[0,:,:,-1].shape"
   ]
  },
  {
   "cell_type": "code",
   "execution_count": null,
   "id": "3a62f382",
   "metadata": {},
   "outputs": [],
   "source": [
    "Cs_true = data[1,:,:,-1].reshape([data[1,:,:,-1].shape[0]*data[1,:,:,-1].shape[1],1])\n",
    "Cs_pred = y_pred[0,:,:,-1].reshape([y_pred[0,:,:,-1].shape[0]*y_pred[0,:,:,-1].shape[1],1])"
   ]
  },
  {
   "cell_type": "code",
   "execution_count": null,
   "id": "3f9782bc",
   "metadata": {},
   "outputs": [],
   "source": [
    "cc_train = CC(Cs_true, Cs_pred)\n",
    "cc_train"
   ]
  },
  {
   "cell_type": "code",
   "execution_count": null,
   "id": "340e0878",
   "metadata": {},
   "outputs": [],
   "source": [
    "Cs_true.shape, Cs_pred.shape"
   ]
  },
  {
   "cell_type": "code",
   "execution_count": null,
   "id": "76aa78a6",
   "metadata": {},
   "outputs": [],
   "source": [
    "plt.hist(Cs_true, bins=8000, density=True, alpha=0.6, histtype=u'step', color='blue')\n",
    "plt.hist(Cs_pred, bins=8000, density=True, alpha=0.6, histtype=u'step', color='red')\n",
    "plt.legend(['Dynamic Smag', 'CNN'])\n",
    "plt.xlabel(r'$C_s$')\n",
    "plt.ylabel(r'Density')\n",
    "#plt.title('Seen Data Comparison')\n",
    "plt.xlim([-0.03,0.03])\n",
    "plt.rcParams.update({'font.size':12})\n",
    "plt.savefig(f'./CNN_Results/CNN_M2_SeenDensity_{model.name}.png')"
   ]
  },
  {
   "cell_type": "code",
   "execution_count": null,
   "id": "727a4e88",
   "metadata": {},
   "outputs": [],
   "source": [
    "y_test_pred = model_s.predict(np.expand_dims(data[-4,:,:,0:-1], axis=0))"
   ]
  },
  {
   "cell_type": "code",
   "execution_count": null,
   "id": "39ccc1c8",
   "metadata": {},
   "outputs": [],
   "source": [
    "idx = -4\n",
    "Cs_test_true = data[idx,:,:,-1].reshape([data[idx,:,:,-1].shape[0]*data[idx,:,:,-1].shape[1],1])\n",
    "Cs_test_pred = y_test_pred[0,:,:,-1].reshape([y_test_pred[0,:,:,-1].shape[0]*y_test_pred[0,:,:,-1].shape[1],1])"
   ]
  },
  {
   "cell_type": "code",
   "execution_count": null,
   "id": "e331f85b",
   "metadata": {},
   "outputs": [],
   "source": [
    "cc_test = CC(Cs_test_true, Cs_test_pred)\n",
    "cc_test"
   ]
  },
  {
   "cell_type": "code",
   "execution_count": null,
   "id": "2e3eb85e",
   "metadata": {},
   "outputs": [],
   "source": [
    "plt.hist(Cs_test_true, bins=4000, density=True, alpha=0.6, histtype=u'step', color='blue')\n",
    "plt.hist(Cs_test_pred, bins=4000, density=True, alpha=0.6, histtype=u'step', color='red')\n",
    "plt.legend(['Dynamic Smag', 'CNN'])\n",
    "plt.xlabel(r'$C_s$')\n",
    "plt.ylabel(r'Density')\n",
    "#plt.title('Seen Data Comparison')\n",
    "plt.xlim([-0.03,0.03])\n",
    "plt.rcParams.update({'font.size':12})\n",
    "plt.savefig(f'./CNN_Results/CNN_M2_UnSeenDensity_{model.name}.png')"
   ]
  },
  {
   "cell_type": "code",
   "execution_count": null,
   "id": "5aa02027",
   "metadata": {},
   "outputs": [],
   "source": []
  },
  {
   "cell_type": "code",
   "execution_count": null,
   "id": "f5b9b89e",
   "metadata": {},
   "outputs": [],
   "source": []
  }
 ],
 "metadata": {
  "kernelspec": {
   "display_name": "Python 3 (ipykernel)",
   "language": "python",
   "name": "python3"
  },
  "language_info": {
   "codemirror_mode": {
    "name": "ipython",
    "version": 3
   },
   "file_extension": ".py",
   "mimetype": "text/x-python",
   "name": "python",
   "nbconvert_exporter": "python",
   "pygments_lexer": "ipython3",
   "version": "3.8.10"
  }
 },
 "nbformat": 4,
 "nbformat_minor": 5
}
