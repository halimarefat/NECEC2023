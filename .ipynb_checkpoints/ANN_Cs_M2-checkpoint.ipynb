{
 "cells": [
  {
   "cell_type": "code",
   "execution_count": null,
   "id": "0787e242",
   "metadata": {},
   "outputs": [],
   "source": [
    "import numpy as np\n",
    "import matplotlib.pyplot as plt\n",
    "from sklearn.preprocessing import StandardScaler\n",
    "import tensorflow as tf\n",
    "from tensorflow.keras import backend as K"
   ]
  },
  {
   "cell_type": "code",
   "execution_count": null,
   "id": "4187329b",
   "metadata": {},
   "outputs": [],
   "source": [
    "GUpSV_S = np.loadtxt('./datasets/dSHR_BBPF_GUp_150_160_SV_norm.npy')\n",
    "GUpSV_U = np.loadtxt('./datasets/dSHR_BBPF_GUp_161_170_SV_norm.npy')\n",
    "GUpLV_S = np.loadtxt('./datasets/dSHR_BBPF_GUp_150_160__norm.npy')\n",
    "GUpLV_U = np.loadtxt('./datasets/dSHR_BBPF_GUp_161_170__norm.npy')\n",
    "\n",
    "GUpSV_S_scale = np.loadtxt('./datasets/dSHR_BBPF_GUp_150_160_SV_scale.txt')\n",
    "GUpSV_U_scale = np.loadtxt('./datasets/dSHR_BBPF_GUp_161_170_SV_scale.txt')\n",
    "GUpLV_S_scale = np.loadtxt('./datasets/dSHR_BBPF_GUp_150_160__scale.txt')\n",
    "GUpLV_U_scale = np.loadtxt('./datasets/dSHR_BBPF_GUp_161_170__scale.txt')\n",
    "\n",
    "GUpSV_S_means = np.loadtxt('./datasets/dSHR_BBPF_GUp_150_160_SV_means.txt')\n",
    "GUpSV_U_means = np.loadtxt('./datasets/dSHR_BBPF_GUp_161_170_SV_means.txt')\n",
    "GUpLV_S_means = np.loadtxt('./datasets/dSHR_BBPF_GUp_150_160__means.txt')\n",
    "GUpLV_U_means = np.loadtxt('./datasets/dSHR_BBPF_GUp_161_170__means.txt')"
   ]
  },
  {
   "cell_type": "code",
   "execution_count": null,
   "id": "c037f487",
   "metadata": {},
   "outputs": [],
   "source": [
    "ni = 12 # GUp: 12, UUp: 9\n",
    "no = 1  # GUp: 1 , UUp: 1\n",
    "dt = GUpLV_S\n",
    "sc = GUpLV_S_scale\n",
    "mn = GUpLV_S_means"
   ]
  },
  {
   "cell_type": "code",
   "execution_count": null,
   "id": "77330435",
   "metadata": {},
   "outputs": [],
   "source": [
    "dt.shape"
   ]
  },
  {
   "cell_type": "code",
   "execution_count": null,
   "id": "0acc9934",
   "metadata": {},
   "outputs": [],
   "source": [
    "dt_U = GUpLV_U\n",
    "sc_U = GUpLV_U_scale\n",
    "mn_U = GUpLV_U_means"
   ]
  },
  {
   "cell_type": "code",
   "execution_count": null,
   "id": "0de1b6f4",
   "metadata": {},
   "outputs": [],
   "source": [
    "np.random.shuffle(dt)\n",
    "\n",
    "dt.shape"
   ]
  },
  {
   "cell_type": "code",
   "execution_count": null,
   "id": "d144cb9d",
   "metadata": {},
   "outputs": [],
   "source": [
    "split = int(0.8*dt.shape[0])\n",
    "x_train = dt[0:split,0:-1]\n",
    "y_train = dt[0:split,-1]\n",
    "\n",
    "x_val = dt[split+1:-1,0:-1]\n",
    "y_val = dt[split+1:-1,-1]"
   ]
  },
  {
   "cell_type": "code",
   "execution_count": null,
   "id": "5ff60aef",
   "metadata": {},
   "outputs": [],
   "source": [
    "def coeff_determination(y_true, y_pred):\n",
    "    SS_res = K.sum(K.square( y_true - y_pred ))\n",
    "    SS_tot = K.sum(K.square( y_true - K.mean(y_true) ) )\n",
    "    return ( 1 - SS_res/(SS_tot + K.epsilon()) )"
   ]
  },
  {
   "cell_type": "code",
   "execution_count": null,
   "id": "173979e5",
   "metadata": {},
   "outputs": [],
   "source": [
    "def Model(nneurons, nfeat, nlab, nlayers):\n",
    "    model = tf.keras.models.Sequential()\n",
    "    input_layer = tf.keras.layers.Input(shape=(nfeat))\n",
    "\n",
    "    x = tf.keras.layers.Dense(nneurons, activation='relu', use_bias=True)(input_layer)\n",
    "    for i in range(1,nlayers):\n",
    "        x = tf.keras.layers.Dense(nneurons, activation='relu', use_bias=True)(x)\n",
    "        \n",
    "    output_layer = tf.keras.layers.Dense(nlab, activation='linear', use_bias=True)(x)\n",
    "        \n",
    "    model = tf.keras.models.Model(input_layer, output_layer)\n",
    "        \n",
    "    adam = tf.keras.optimizers.legacy.Adam(learning_rate=0.001, beta_1=0.9, \n",
    "                                           beta_2=0.999, epsilon=None, decay=0.0, amsgrad=False)\n",
    "    model.compile(loss='mean_squared_error', optimizer='adam', metrics=[coeff_determination])\n",
    "    model._name = f'model_n_{nneurons}_lay_{nlayers}'\n",
    "    return model"
   ]
  },
  {
   "cell_type": "code",
   "execution_count": null,
   "id": "4fe015b3",
   "metadata": {},
   "outputs": [],
   "source": [
    "neurons = 60 #[20, 40, 60]\n",
    "layers = 5 #[2, 3, 5, 7]\n",
    "model = Model(neurons, ni, no, layers)\n",
    "\n",
    "checkpoints = tf.keras.callbacks.ModelCheckpoint(filepath='ANN_checkpoints/ANN_M2_LV_weight-{epoch:02d}.h5', \n",
    "                                                  monitor='val_loss', \n",
    "                                                  verbose=1, \n",
    "                                                  save_best_only=True, \n",
    "                                                  mode='min')\n",
    "model.summary()"
   ]
  },
  {
   "cell_type": "code",
   "execution_count": null,
   "id": "24902fa5",
   "metadata": {
    "scrolled": true
   },
   "outputs": [],
   "source": [
    "eps= 5000\n",
    "bs = 4096\n",
    "vlbs = int(bs / 4)\n",
    "hist = model.fit(x_train, y_train, batch_size= bs, epochs= eps, \n",
    "                 validation_data=[x_val,y_val], validation_batch_size= vlbs, callbacks=[checkpoints])"
   ]
  },
  {
   "cell_type": "code",
   "execution_count": null,
   "id": "e5b63eb7",
   "metadata": {},
   "outputs": [],
   "source": [
    "import pickle\n",
    "\n",
    "trainHistF = './ANN_M2_trainFit.history'\n",
    "with open(trainHistF, 'wb') as f:\n",
    "    pickle.dump(hist.history, f)"
   ]
  },
  {
   "cell_type": "code",
   "execution_count": null,
   "id": "3e07a66f",
   "metadata": {},
   "outputs": [],
   "source": [
    "def movingAvg(vec, window):\n",
    "    retVec = []\n",
    "    for ind in range(len(vec) - window + 1):\n",
    "        retVec.append(np.mean(vec[ind:ind+window]))\n",
    "\n",
    "    return retVec"
   ]
  },
  {
   "cell_type": "code",
   "execution_count": null,
   "id": "74292848",
   "metadata": {},
   "outputs": [],
   "source": [
    "plt.plot(movingAvg(hist.history[\"coeff_determination\"][:3500], 100), 'b-')\n",
    "plt.plot(movingAvg(hist.history[\"val_coeff_determination\"][:3500], 100), 'r-')\n",
    "plt.rcParams.update({'font.size':14})\n",
    "plt.xlabel(r'epochs')\n",
    "plt.ylabel(r'r2')\n",
    "plt.legend(['trainig', 'validation'])\n",
    "#plt.ylim([0.5, 1.])\n",
    "plt.savefig(f'./ANN_Results/ANN_M2_R2_{model.name}.png')"
   ]
  },
  {
   "cell_type": "code",
   "execution_count": null,
   "id": "db9f0578",
   "metadata": {},
   "outputs": [],
   "source": [
    "plt.plot(movingAvg(hist.history[\"loss\"][:3500], 20), 'b-')\n",
    "plt.plot(movingAvg(hist.history[\"val_loss\"][:3500], 50), 'r-')\n",
    "plt.rcParams.update({'font.size':14})\n",
    "plt.xlabel(r'epochs')\n",
    "plt.ylabel(r'loss')\n",
    "plt.legend(['trainig', 'validation'])\n",
    "#plt.ylim([0, 0.7])\n",
    "plt.savefig(f'./ANN_Results/ANN_M2_Loss_{model.name}.png')"
   ]
  },
  {
   "cell_type": "code",
   "execution_count": null,
   "id": "00960a08",
   "metadata": {},
   "outputs": [],
   "source": [
    "model.load_weights('/home/hmarefat/scratch/NECEC2023_local/ANN_checkpoints/ANN_5_60_GUp_LV_weight-3324.h5')"
   ]
  },
  {
   "cell_type": "code",
   "execution_count": null,
   "id": "74732e12",
   "metadata": {},
   "outputs": [],
   "source": [
    "pred = model.predict(dt[:,0:-1])"
   ]
  },
  {
   "cell_type": "code",
   "execution_count": null,
   "id": "eb80dcd6",
   "metadata": {},
   "outputs": [],
   "source": [
    "en = 200000\n",
    "st = 200400\n",
    "plt.plot((dt[:,-1])*sc[-1]+mn[-1], 'b-')\n",
    "plt.plot((pred[:])*sc[-1]+mn[-1], 'r-')\n",
    "plt.rcParams.update({'font.size': 14})\n",
    "plt.legend(['Dynamic Smag', 'ANN'])\n",
    "plt.ylabel(r'$C_s$')\n",
    "plt.savefig(f'./ANN_Results/ANN_M2_ValueComp_{model.name}.png')"
   ]
  },
  {
   "cell_type": "code",
   "execution_count": null,
   "id": "1c9c463a",
   "metadata": {},
   "outputs": [],
   "source": [
    "def CC(true, pred):\n",
    "    true = tf.cast(true, tf.float32)\n",
    "    pred = tf.cast(pred, tf.float32)\n",
    "    cov = K.sum( (true - K.mean(true)) * (pred - K.mean(pred)) ) / ( len(true) - 1 )\n",
    "    sigma = lambda y : np.sqrt(K.mean(K.square(y - K.mean(y))))\n",
    "    return cov / ( sigma(true) * sigma(pred) )"
   ]
  },
  {
   "cell_type": "code",
   "execution_count": null,
   "id": "bc99edba",
   "metadata": {},
   "outputs": [],
   "source": [
    "cc = CC(dt[:,-1], pred[:].squeeze())\n",
    "cc"
   ]
  },
  {
   "cell_type": "code",
   "execution_count": null,
   "id": "576187c0",
   "metadata": {},
   "outputs": [],
   "source": [
    "plt.hist((dt[:,-1])*sc[-1]+mn[-1], bins=8000, density=True, alpha=0.6, histtype=u'step', color='blue')\n",
    "plt.hist((pred[:])*sc[-1]+mn[-1], bins=8000, density=True, alpha=0.6, histtype=u'step', color='red')\n",
    "plt.rcParams.update({'font.size':14})\n",
    "plt.legend(['Dynamic Smag', 'ANN'])\n",
    "#plt.title('Seen Data Comparison')\n",
    "plt.xlim([-0.03,0.03])\n",
    "plt.xlabel(r'$C_s$')\n",
    "plt.ylabel(r'Density')\n",
    "plt.savefig(f'./ANN_Results/ANN_M2_SeenDensity_{model.name}.png')"
   ]
  },
  {
   "cell_type": "code",
   "execution_count": null,
   "id": "383c758a",
   "metadata": {},
   "outputs": [],
   "source": [
    "pred_U = model.predict(dt_U[:,0:-1])"
   ]
  },
  {
   "cell_type": "code",
   "execution_count": null,
   "id": "8e4b1d74",
   "metadata": {},
   "outputs": [],
   "source": [
    "cc_test = CC(dt_U[:,-1], pred_U[:].squeeze())\n",
    "cc_test"
   ]
  },
  {
   "cell_type": "code",
   "execution_count": null,
   "id": "755bd013",
   "metadata": {},
   "outputs": [],
   "source": [
    "plt.hist((dt_U[:,-1])*sc_U[-1]+mn_U[-1], bins=8000, density=True, alpha=0.6, histtype=u'step', color='blue')\n",
    "plt.hist((pred_U[:])*sc_U[-1]+mn_U[-1], bins=8000, density=True, alpha=0.6, histtype=u'step', color='red')\n",
    "plt.legend(['Dynamic Smag', 'ANN'])\n",
    "#plt.title('UnSeen Data Comparison')\n",
    "plt.xlim([-0.03,0.03])\n",
    "plt.xlabel(r'$C_s$')\n",
    "plt.ylabel(r'Density')\n",
    "plt.rcParams.update({'font.size':14})\n",
    "plt.savefig(f'./ANN_Results/ANN_M2_UnSeenDensity_{model.name}.png')"
   ]
  },
  {
   "cell_type": "code",
   "execution_count": null,
   "id": "a4198184",
   "metadata": {},
   "outputs": [],
   "source": [
    "!nvidia-smi"
   ]
  },
  {
   "cell_type": "code",
   "execution_count": null,
   "id": "6b3929d5",
   "metadata": {},
   "outputs": [],
   "source": []
  }
 ],
 "metadata": {
  "kernelspec": {
   "display_name": "Python 3 (ipykernel)",
   "language": "python",
   "name": "python3"
  },
  "language_info": {
   "codemirror_mode": {
    "name": "ipython",
    "version": 3
   },
   "file_extension": ".py",
   "mimetype": "text/x-python",
   "name": "python",
   "nbconvert_exporter": "python",
   "pygments_lexer": "ipython3",
   "version": "3.8.10"
  }
 },
 "nbformat": 4,
 "nbformat_minor": 5
}
