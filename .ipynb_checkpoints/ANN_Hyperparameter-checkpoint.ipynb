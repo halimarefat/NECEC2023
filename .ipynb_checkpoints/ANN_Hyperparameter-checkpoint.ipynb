{
 "cells": [
  {
   "cell_type": "code",
   "execution_count": null,
   "id": "2cac2d01",
   "metadata": {},
   "outputs": [],
   "source": [
    "import numpy as np\n",
    "import matplotlib.pyplot as plt"
   ]
  },
  {
   "cell_type": "code",
   "execution_count": null,
   "id": "5b260ec0",
   "metadata": {},
   "outputs": [],
   "source": [
    "UUp_SV_r2_val_x = [2.0, 3.0, 5.0, 7.0]\n",
    "UUp_SV_r2_val_20 = [0.3579, 0.4188, 0.4217, 0.4800] \n",
    "UUp_SV_r2_val_40 = [0.4074, 0.4804, 0.4670, 0.5154] \n",
    "UUp_SV_r2_val_60 = [0.4676, 0.4784, 0.5190, 0.5564]\n",
    "GUp_SV_r2_val_20 = [0.3483, 0.5245, 0.5093, 0.5945]     \n",
    "GUp_SV_r2_val_40 = [0.5426, 0.6334, 0.6707, 0.7125]\n",
    "GUp_SV_r2_val_60 = [0.5359, 0.6393, 0.7276, 0.7368]"
   ]
  },
  {
   "cell_type": "code",
   "execution_count": null,
   "id": "32a5119e",
   "metadata": {},
   "outputs": [],
   "source": [
    "plt.plot(UUp_SV_r2_val_x, UUp_SV_r2_val_20, 'rx')\n",
    "plt.plot(UUp_SV_r2_val_x, UUp_SV_r2_val_40, 'bx')\n",
    "plt.plot(UUp_SV_r2_val_x, UUp_SV_r2_val_60, 'gx')\n",
    "plt.ylim([0.2, 0.85])\n",
    "plt.rcParams.update({'font.size':14})\n",
    "plt.xlabel('Number of hidden layers')\n",
    "plt.ylabel(r'r2')\n",
    "plt.legend(['N=20', 'N=40', 'N=60'], ncol=3)\n",
    "plt.savefig('UUp_SV_r2.png')"
   ]
  },
  {
   "cell_type": "code",
   "execution_count": null,
   "id": "d736016d",
   "metadata": {},
   "outputs": [],
   "source": [
    "plt.plot(UUp_SV_r2_val_x, GUp_SV_r2_val_20, 'rx')\n",
    "plt.plot(UUp_SV_r2_val_x, GUp_SV_r2_val_40, 'bx')\n",
    "plt.plot(UUp_SV_r2_val_x, GUp_SV_r2_val_60, 'gx')\n",
    "plt.ylim([0.2, 0.85])\n",
    "plt.rcParams.update({'font.size':14})\n",
    "plt.xlabel('Number of hidden layers')\n",
    "plt.ylabel(r'r2')\n",
    "plt.legend(['N=20', 'N=40', 'N=60'], ncol=3)\n",
    "plt.savefig('GUp_SV_r2.png')"
   ]
  },
  {
   "cell_type": "code",
   "execution_count": null,
   "id": "1fa96380",
   "metadata": {},
   "outputs": [],
   "source": []
  }
 ],
 "metadata": {
  "kernelspec": {
   "display_name": "Python 3 (ipykernel)",
   "language": "python",
   "name": "python3"
  },
  "language_info": {
   "codemirror_mode": {
    "name": "ipython",
    "version": 3
   },
   "file_extension": ".py",
   "mimetype": "text/x-python",
   "name": "python",
   "nbconvert_exporter": "python",
   "pygments_lexer": "ipython3",
   "version": "3.8.10"
  }
 },
 "nbformat": 4,
 "nbformat_minor": 5
}
